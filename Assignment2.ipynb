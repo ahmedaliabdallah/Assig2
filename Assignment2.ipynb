{
 "cells": [
  {
   "cell_type": "markdown",
   "id": "3c7a8819",
   "metadata": {},
   "source": [
    "# Task1\n",
    "Write a Python program to add an item to a tuple."
   ]
  },
  {
   "cell_type": "code",
   "execution_count": 63,
   "id": "7bf26def",
   "metadata": {},
   "outputs": [
    {
     "name": "stdout",
     "output_type": "stream",
     "text": [
      "(1, 2, 3, 4)\n"
     ]
    }
   ],
   "source": [
    "tup1=(1,2,3)\n",
    "new_item=4\n",
    "new_tup= tup1 + (new_item,)\n",
    "print(new_tup)"
   ]
  },
  {
   "cell_type": "markdown",
   "id": "a2932652",
   "metadata": {},
   "source": [
    "# Task2\n",
    "Write a Python program to sum all the items in a list."
   ]
  },
  {
   "cell_type": "code",
   "execution_count": 64,
   "id": "17cc806d",
   "metadata": {},
   "outputs": [
    {
     "data": {
      "text/plain": [
       "15"
      ]
     },
     "execution_count": 64,
     "metadata": {},
     "output_type": "execute_result"
    }
   ],
   "source": [
    "lst=[1,2,3,4,5]\n",
    "sum(lst)"
   ]
  },
  {
   "cell_type": "markdown",
   "id": "9439fccd",
   "metadata": {},
   "source": [
    "# Task3\n",
    "Write a Python program to multiply all the items in a list."
   ]
  },
  {
   "cell_type": "code",
   "execution_count": 65,
   "id": "7bd57bb5",
   "metadata": {},
   "outputs": [],
   "source": [
    "lst=[]\n",
    "product=1\n",
    "for _ in lst:\n",
    "    product = product * _\n"
   ]
  },
  {
   "cell_type": "markdown",
   "id": "1fef85c3",
   "metadata": {},
   "source": [
    "# Task4\n",
    "Write a Python program to get the smallest number from a list."
   ]
  },
  {
   "cell_type": "code",
   "execution_count": 66,
   "id": "c77b606c",
   "metadata": {},
   "outputs": [
    {
     "name": "stdout",
     "output_type": "stream",
     "text": [
      "1\n"
     ]
    }
   ],
   "source": [
    "lst=[1,2]\n",
    "print(min(lst))"
   ]
  },
  {
   "cell_type": "markdown",
   "id": "0d287243",
   "metadata": {},
   "source": [
    "# Task5\n",
    "Write a Python program to get the largest number from a list."
   ]
  },
  {
   "cell_type": "code",
   "execution_count": 67,
   "id": "29bf3a84",
   "metadata": {},
   "outputs": [
    {
     "name": "stdout",
     "output_type": "stream",
     "text": [
      "2\n"
     ]
    }
   ],
   "source": [
    "lst=[1,2]\n",
    "print(max(lst))"
   ]
  },
  {
   "cell_type": "markdown",
   "id": "b2350932",
   "metadata": {},
   "source": [
    "# Task6 \n",
    "Write a Python program to count the number of strings from a given list of \n",
    "strings."
   ]
  },
  {
   "cell_type": "code",
   "execution_count": 68,
   "id": "e73356bd",
   "metadata": {},
   "outputs": [
    {
     "name": "stdout",
     "output_type": "stream",
     "text": [
      "5\n"
     ]
    }
   ],
   "source": [
    "lst = ['apple', 'banana', 'cherry', 'date', 'elderberry']\n",
    "num_strings=0\n",
    "for _ in lst:\n",
    "    if isinstance(_, str):\n",
    "        num_strings += 1 \n",
    "print(num_strings)"
   ]
  },
  {
   "cell_type": "markdown",
   "id": "1eacc78b",
   "metadata": {},
   "source": [
    "# Task7\n",
    "Write a Python program to clone or copy a list"
   ]
  },
  {
   "cell_type": "code",
   "execution_count": 69,
   "id": "63bbc455",
   "metadata": {},
   "outputs": [
    {
     "name": "stdout",
     "output_type": "stream",
     "text": [
      "Original list: [1, 2, 3, [4, 5, 6]]\n",
      "Cloned list: [1, 2, 3, [4, 5, 6]]\n"
     ]
    }
   ],
   "source": [
    "my_list = [1, 2, 3, [4, 5, 6]]\n",
    "\n",
    "cloned_list = my_list.copy()\n",
    "\n",
    "print(\"Original list:\", my_list)\n",
    "print(\"Cloned list:\", cloned_list)"
   ]
  },
  {
   "cell_type": "markdown",
   "id": "449d71c4",
   "metadata": {},
   "source": [
    "# Task8\n",
    "Write a Python program to remove item(s) from a given set.\n",
    "\n",
    "s = set([0, 1, 3, 4, 5])"
   ]
  },
  {
   "cell_type": "code",
   "execution_count": 70,
   "id": "2593788e",
   "metadata": {},
   "outputs": [
    {
     "name": "stdout",
     "output_type": "stream",
     "text": [
      "{0, 1, 4, 5}\n"
     ]
    }
   ],
   "source": [
    "s = set([0,1,3,4,5])\n",
    "s.remove(3)\n",
    "print(s)"
   ]
  },
  {
   "cell_type": "markdown",
   "id": "f90c349e",
   "metadata": {},
   "source": [
    "# Task9\n",
    "Write a Python program to find the maximum and minimum values in a set."
   ]
  },
  {
   "cell_type": "code",
   "execution_count": 71,
   "id": "6f6e62b0",
   "metadata": {},
   "outputs": [
    {
     "name": "stdout",
     "output_type": "stream",
     "text": [
      "5\n",
      "0\n"
     ]
    }
   ],
   "source": [
    "s = set([0,1,3,4,5])\n",
    "print(max(s))\n",
    "print(min(s))\n"
   ]
  },
  {
   "cell_type": "markdown",
   "id": "a151e82a",
   "metadata": {},
   "source": [
    "# Task10\n",
    "Write a Python program to convert a tuple to a dictionary."
   ]
  },
  {
   "cell_type": "code",
   "execution_count": 72,
   "id": "1c606999",
   "metadata": {},
   "outputs": [],
   "source": [
    "tuple=()\n",
    "dictionery= dict(tuple)"
   ]
  },
  {
   "cell_type": "markdown",
   "id": "c8132b1b",
   "metadata": {},
   "source": [
    "# Task11\n",
    "Write a Python program to reverse a tuple."
   ]
  },
  {
   "cell_type": "code",
   "execution_count": 73,
   "id": "49a882d8",
   "metadata": {},
   "outputs": [
    {
     "name": "stdout",
     "output_type": "stream",
     "text": [
      "(23, 'ahmed')\n"
     ]
    }
   ],
   "source": [
    "tup=(\"ahmed\",23)\n",
    "reversed_tupple = tup[::-1]\n",
    "print(reversed_tupple)"
   ]
  },
  {
   "cell_type": "markdown",
   "id": "6c062c85",
   "metadata": {},
   "source": [
    "# Task12\n",
    "Write a Python program to convert a list of tuples into a dictionary"
   ]
  },
  {
   "cell_type": "code",
   "execution_count": null,
   "id": "a2ec0e76",
   "metadata": {},
   "outputs": [],
   "source": []
  },
  {
   "cell_type": "code",
   "execution_count": 74,
   "id": "c3b21d48",
   "metadata": {},
   "outputs": [],
   "source": [
    "list= [(10, 20), (40, 50), (7, 90)]\n",
    "list=dict(list)"
   ]
  },
  {
   "cell_type": "markdown",
   "id": "2133456d",
   "metadata": {},
   "source": [
    "# Task13\n",
    "Write a Python program to replace the last value of tuples in a list.\n",
    "\n",
    "Sample list: [(10, 20, 40), (40, 50, 60), (70, 80, 90)]\n",
    "\n",
    "Expected Output: [(10, 20, 100), (40, 50, 100), (70, 80, 100)]\n"
   ]
  },
  {
   "cell_type": "code",
   "execution_count": 75,
   "id": "de535d71",
   "metadata": {},
   "outputs": [
    {
     "name": "stdout",
     "output_type": "stream",
     "text": [
      "[(10, 20, 100), (40, 50, 100), (70, 80, 100)]\n"
     ]
    }
   ],
   "source": [
    "my_list = [(10, 20, 40), (40, 50, 60), (70, 80, 90)]\n",
    "new_value = 100\n",
    "for i in range(len(my_list)):\n",
    "    my_list[i] = my_list[i][: -1] + (new_value,)\n",
    "print(my_list)  \n"
   ]
  },
  {
   "cell_type": "markdown",
   "id": "076336bc",
   "metadata": {},
   "source": [
    "# Task14\n",
    "Remove the illegal characters in the variable name:\n",
    "\n",
    "var_name = \"%%6student_name$^$%#\"\n",
    "\n",
    "illegal_chars = \"0123456789!@#$%^&*()-+=[]{}|\\\\;:'\\\",.<>/?~\"\n",
    "\n",
    "output is \"student_name\""
   ]
  },
  {
   "cell_type": "code",
   "execution_count": 76,
   "id": "c377b33b",
   "metadata": {},
   "outputs": [
    {
     "name": "stdout",
     "output_type": "stream",
     "text": [
      "student_name\n"
     ]
    }
   ],
   "source": [
    "var_name = \"%%6student_name$^$%#\"\n",
    "illegal_chars = \"0123456789!@#$%^&*()-+=[]{}|\\\\;:'\\\",.<>/?~\"\n",
    "\n",
    "new_var_name = ''.join(c for c in var_name if c not in illegal_chars)\n",
    "\n",
    "print(new_var_name) "
   ]
  },
  {
   "cell_type": "markdown",
   "id": "46bd77d7",
   "metadata": {},
   "source": [
    "# Task15\n",
    "Write a Python program to print the even and odd numbers in a series of numbers\n",
    "\n",
    "Sample numbers : numbers = (1, 2, 3, 4, 5, 6, 7, 8, 9) \n",
    "    \n",
    "Expected Output :\n",
    "    \n",
    "Number of even numbers : 2,4,6,8\n",
    "    \n",
    "Number of odd numbers : 1,3,5,7,9"
   ]
  },
  {
   "cell_type": "code",
   "execution_count": 77,
   "id": "924d0873",
   "metadata": {},
   "outputs": [
    {
     "name": "stdout",
     "output_type": "stream",
     "text": [
      "Number of even numbers : [2, 4, 6, 8]\n"
     ]
    }
   ],
   "source": [
    "numbers = (1, 2, 3, 4, 5, 6, 7, 8, 9) \n",
    "evens=[]\n",
    "odd=[]\n",
    "for _ in numbers:\n",
    "    if  _ % 2 ==0:\n",
    "        evens.append(_)\n",
    "    else:\n",
    "        odd.append(_)\n",
    "print(f\"Number of even numbers : {str(evens)}\")\n"
   ]
  },
  {
   "cell_type": "markdown",
   "id": "0f8fce9c",
   "metadata": {},
   "source": [
    "# Task16\n",
    "Write a Python program that iterates the integers from 1 to 50. For multiples of three print \"Fizz\" instead of the number and for multiples of five print \"Buzz\". For numbers that are multiples of three and five, print \"FizzBuzz\"."
   ]
  },
  {
   "cell_type": "code",
   "execution_count": 78,
   "id": "5985952d",
   "metadata": {},
   "outputs": [
    {
     "name": "stdout",
     "output_type": "stream",
     "text": [
      "1\n",
      "2\n",
      "fizz\n",
      "4\n",
      "buzz\n",
      "fizz\n",
      "7\n",
      "8\n",
      "fizz\n",
      "buzz\n",
      "11\n",
      "fizz\n",
      "13\n",
      "14\n",
      "fizzbuzz\n",
      "16\n",
      "17\n",
      "fizz\n",
      "19\n",
      "buzz\n",
      "fizz\n",
      "22\n",
      "23\n",
      "fizz\n",
      "buzz\n",
      "26\n",
      "fizz\n",
      "28\n",
      "29\n",
      "fizzbuzz\n",
      "31\n",
      "32\n",
      "fizz\n",
      "34\n",
      "buzz\n",
      "fizz\n",
      "37\n",
      "38\n",
      "fizz\n",
      "buzz\n",
      "41\n",
      "fizz\n",
      "43\n",
      "44\n",
      "fizzbuzz\n",
      "46\n",
      "47\n",
      "fizz\n",
      "49\n",
      "buzz\n"
     ]
    }
   ],
   "source": [
    "for number in  range(1, 51):\n",
    "    if number %3 ==0 and number %5 == 0:\n",
    "        print('fizzbuzz')\n",
    "    elif number%3==0:\n",
    "        print(\"fizz\")\n",
    "    elif number%5==0:\n",
    "        print(\"buzz\")\n",
    "    else:\n",
    "        print(number)"
   ]
  },
  {
   "cell_type": "markdown",
   "id": "504dee61",
   "metadata": {},
   "source": [
    "# Task17\n",
    "After you have finished the second session, can you explain briefly what information was learned and also what information you learned through the search?"
   ]
  },
  {
   "cell_type": "markdown",
   "id": "ba701085",
   "metadata": {},
   "source": [
    "in the second session we learned  about how to use a datastructuers like tupples, dictionerys, sets and lists. we also learned about  loops and conditional statements."
   ]
  }
 ],
 "metadata": {
  "kernelspec": {
   "display_name": "Python 3 (ipykernel)",
   "language": "python",
   "name": "python3"
  },
  "language_info": {
   "codemirror_mode": {
    "name": "ipython",
    "version": 3
   },
   "file_extension": ".py",
   "mimetype": "text/x-python",
   "name": "python",
   "nbconvert_exporter": "python",
   "pygments_lexer": "ipython3",
   "version": "3.11.3"
  }
 },
 "nbformat": 4,
 "nbformat_minor": 5
}
